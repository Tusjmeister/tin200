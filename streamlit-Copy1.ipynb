{
 "cells": [
  {
   "cell_type": "code",
   "execution_count": 10,
   "metadata": {
    "tags": []
   },
   "outputs": [],
   "source": [
    "from sklearn.ensemble import RandomForestClassifier, GradientBoostingClassifier, GradientBoostingRegressor\n",
    "from sklearn.model_selection import train_test_split, GridSearchCV, StratifiedKFold\n",
    "from sklearn.metrics import r2_score, confusion_matrix, roc_curve, auc\n",
    "from sklearn.impute import SimpleImputer\n",
    "from sklearn.preprocessing import StandardScaler, LabelEncoder\n",
    "from sklearn.pipeline import make_pipeline\n",
    "from sklearn.svm import SVC\n",
    "from sklearn.linear_model import LogisticRegression\n",
    "from sklearn.decomposition import PCA\n",
    "from scipy import stats\n",
    "\n",
    "import matplotlib.pyplot as plt\n",
    "import pandas as pd\n",
    "import seaborn as sns\n",
    "import numpy as np\n",
    "import streamlit as st"
   ]
  },
  {
   "cell_type": "code",
   "execution_count": 11,
   "metadata": {},
   "outputs": [],
   "source": [
    "st.set_page_config(layout=\"wide\")\n",
    "st.write(\"\"\" # Automatisering av låneprosessen\"\"\")"
   ]
  },
  {
   "cell_type": "code",
   "execution_count": 12,
   "metadata": {
    "collapsed": false,
    "jupyter": {
     "outputs_hidden": false
    },
    "pycharm": {
     "name": "#%%\n"
    }
   },
   "outputs": [],
   "source": [
    "raw_data = pd.read_csv('imputed_new.csv', sep=',', index_col=False) # Naming the preprocessed train data \"raw_data\"\n",
    "test_data = pd.read_csv('imputed_test_new.csv', sep=',', index_col=False) # Naming the preprocessed test data \"test_data\""
   ]
  },
  {
   "cell_type": "code",
   "execution_count": 13,
   "metadata": {},
   "outputs": [
    {
     "data": {
      "text/plain": [
       "DeltaGenerator(_root_container=1, _provided_cursor=None, _parent=DeltaGenerator(_root_container=0, _provided_cursor=None, _parent=None, _block_type=None, _form_data=None), _block_type=None, _form_data=None)"
      ]
     },
     "execution_count": 13,
     "metadata": {},
     "output_type": "execute_result"
    }
   ],
   "source": [
    "st.sidebar.header(\"Inndata verdier\")"
   ]
  },
  {
   "cell_type": "code",
   "execution_count": 14,
   "metadata": {
    "collapsed": false,
    "jupyter": {
     "outputs_hidden": false
    },
    "pycharm": {
     "name": "#%%\n"
    }
   },
   "outputs": [
    {
     "name": "stdout",
     "output_type": "stream",
     "text": [
      "Dependents           0\n",
      "Education            0\n",
      "ApplicantIncome      0\n",
      "CoapplicantIncome    0\n",
      "LoanAmount           0\n",
      "Loan_Amount_Term     0\n",
      "Credit_History       0\n",
      "Property_Area        0\n",
      "Gender_Male          0\n",
      "Married_Yes          0\n",
      "Self_Employed_Yes    0\n",
      "Loan_Status_Y        0\n",
      "dtype: int64\n"
     ]
    },
    {
     "data": {
      "text/html": [
       "<div>\n",
       "<style scoped>\n",
       "    .dataframe tbody tr th:only-of-type {\n",
       "        vertical-align: middle;\n",
       "    }\n",
       "\n",
       "    .dataframe tbody tr th {\n",
       "        vertical-align: top;\n",
       "    }\n",
       "\n",
       "    .dataframe thead th {\n",
       "        text-align: right;\n",
       "    }\n",
       "</style>\n",
       "<table border=\"1\" class=\"dataframe\">\n",
       "  <thead>\n",
       "    <tr style=\"text-align: right;\">\n",
       "      <th></th>\n",
       "      <th>Dependents</th>\n",
       "      <th>Education</th>\n",
       "      <th>ApplicantIncome</th>\n",
       "      <th>CoapplicantIncome</th>\n",
       "      <th>LoanAmount</th>\n",
       "      <th>Loan_Amount_Term</th>\n",
       "      <th>Credit_History</th>\n",
       "      <th>Property_Area</th>\n",
       "      <th>Gender_Male</th>\n",
       "      <th>Married_Yes</th>\n",
       "      <th>Self_Employed_Yes</th>\n",
       "      <th>Loan_Status_Y</th>\n",
       "    </tr>\n",
       "  </thead>\n",
       "  <tbody>\n",
       "    <tr>\n",
       "      <th>0</th>\n",
       "      <td>0.0</td>\n",
       "      <td>0.0</td>\n",
       "      <td>5849.0</td>\n",
       "      <td>0.0</td>\n",
       "      <td>128.0</td>\n",
       "      <td>360.0</td>\n",
       "      <td>1.0</td>\n",
       "      <td>2.0</td>\n",
       "      <td>1.0</td>\n",
       "      <td>0.0</td>\n",
       "      <td>0.0</td>\n",
       "      <td>1.0</td>\n",
       "    </tr>\n",
       "    <tr>\n",
       "      <th>1</th>\n",
       "      <td>1.0</td>\n",
       "      <td>0.0</td>\n",
       "      <td>4583.0</td>\n",
       "      <td>1508.0</td>\n",
       "      <td>128.0</td>\n",
       "      <td>360.0</td>\n",
       "      <td>1.0</td>\n",
       "      <td>0.0</td>\n",
       "      <td>1.0</td>\n",
       "      <td>1.0</td>\n",
       "      <td>0.0</td>\n",
       "      <td>0.0</td>\n",
       "    </tr>\n",
       "    <tr>\n",
       "      <th>2</th>\n",
       "      <td>0.0</td>\n",
       "      <td>0.0</td>\n",
       "      <td>3000.0</td>\n",
       "      <td>0.0</td>\n",
       "      <td>66.0</td>\n",
       "      <td>360.0</td>\n",
       "      <td>1.0</td>\n",
       "      <td>2.0</td>\n",
       "      <td>1.0</td>\n",
       "      <td>1.0</td>\n",
       "      <td>1.0</td>\n",
       "      <td>1.0</td>\n",
       "    </tr>\n",
       "    <tr>\n",
       "      <th>3</th>\n",
       "      <td>0.0</td>\n",
       "      <td>1.0</td>\n",
       "      <td>2583.0</td>\n",
       "      <td>2358.0</td>\n",
       "      <td>120.0</td>\n",
       "      <td>360.0</td>\n",
       "      <td>1.0</td>\n",
       "      <td>2.0</td>\n",
       "      <td>1.0</td>\n",
       "      <td>1.0</td>\n",
       "      <td>0.0</td>\n",
       "      <td>1.0</td>\n",
       "    </tr>\n",
       "    <tr>\n",
       "      <th>4</th>\n",
       "      <td>0.0</td>\n",
       "      <td>0.0</td>\n",
       "      <td>6000.0</td>\n",
       "      <td>0.0</td>\n",
       "      <td>141.0</td>\n",
       "      <td>360.0</td>\n",
       "      <td>1.0</td>\n",
       "      <td>2.0</td>\n",
       "      <td>1.0</td>\n",
       "      <td>0.0</td>\n",
       "      <td>0.0</td>\n",
       "      <td>1.0</td>\n",
       "    </tr>\n",
       "  </tbody>\n",
       "</table>\n",
       "</div>"
      ],
      "text/plain": [
       "   Dependents  Education  ApplicantIncome  CoapplicantIncome  LoanAmount  \\\n",
       "0         0.0        0.0           5849.0                0.0       128.0   \n",
       "1         1.0        0.0           4583.0             1508.0       128.0   \n",
       "2         0.0        0.0           3000.0                0.0        66.0   \n",
       "3         0.0        1.0           2583.0             2358.0       120.0   \n",
       "4         0.0        0.0           6000.0                0.0       141.0   \n",
       "\n",
       "   Loan_Amount_Term  Credit_History  Property_Area  Gender_Male  Married_Yes  \\\n",
       "0             360.0             1.0            2.0          1.0          0.0   \n",
       "1             360.0             1.0            0.0          1.0          1.0   \n",
       "2             360.0             1.0            2.0          1.0          1.0   \n",
       "3             360.0             1.0            2.0          1.0          1.0   \n",
       "4             360.0             1.0            2.0          1.0          0.0   \n",
       "\n",
       "   Self_Employed_Yes  Loan_Status_Y  \n",
       "0                0.0            1.0  \n",
       "1                0.0            0.0  \n",
       "2                1.0            1.0  \n",
       "3                0.0            1.0  \n",
       "4                0.0            1.0  "
      ]
     },
     "execution_count": 14,
     "metadata": {},
     "output_type": "execute_result"
    }
   ],
   "source": [
    "print(raw_data.isnull().sum()) # Checking how many NaN there are\n",
    "raw_data.head()"
   ]
  },
  {
   "cell_type": "code",
   "execution_count": 15,
   "metadata": {},
   "outputs": [],
   "source": [
    "def brukerverdier():\n",
    "    Gender_Male = st.sidebar.selectbox(\"Gender\", [\"Male\", \"Female\"])\n",
    "    Married_Yes = st.sidebar.selectbox(\"Married?\", [\"Yes\", \"No\"])\n",
    "    Dependents = st.sidebar.slider(\"Dependents\",0,10)\n",
    "    Education = st.sidebar.selectbox(\"Education\", [\"Graduate\", \"Not Graduate\"])\n",
    "    Self_Employed_Yes = st.sidebar.selectbox(\"Self Employed\", [\"Yes\", \"No\"])\n",
    "    ApplicantIncome = st.sidebar.slider(\"ApplicantIncome\",float(raw_data.ApplicantIncome.min()),float(raw_data.ApplicantIncome.max()),float(raw_data.ApplicantIncome.mean()))\n",
    "    CoapplicantIncome = st.sidebar.slider(\"CoapplicantIncome\",float(raw_data.CoapplicantIncome.min()),float(raw_data.CoapplicantIncome.max()),float(raw_data.CoapplicantIncome.mean()))\n",
    "    LoanAmount = st.sidebar.slider(\"Loan_Amount\",float(raw_data.LoanAmount.min()),float(raw_data.LoanAmount.max()),float(raw_data.LoanAmount.mean()))\n",
    "    Loan_Amount_Term = st.sidebar.slider(\"Loan_Amount_Term\",float(raw_data.Loan_Amount_Term.min()),float(raw_data.Loan_Amount_Term.max()),float(raw_data.Loan_Amount_Term.mean()))\n",
    "    Credit_History = st.sidebar.slider(\"Credit_History\",0,1)\n",
    "    Property_Area = st.sidebar.selectbox(\"Property area?\", [\"Urban\",\"Semiurban\",\"Rural\"])\n",
    "    \n",
    "    data = {\n",
    "            \"Dependents\": Dependents,\n",
    "            \"Gender\" : Gender_Male,\n",
    "            \"Married\":Married_Yes,\n",
    "            \"Education\": Education,\n",
    "            \"Self_Employed\" : Self_Employed_Yes,\n",
    "            \"ApplicantIncome\": ApplicantIncome,\n",
    "            \"CoapplicantIncome\" : CoapplicantIncome,\n",
    "            \"Loan_Amount\": LoanAmount,\n",
    "            \"Loan_Amount_Term\": Loan_Amount_Term,\n",
    "            \"Credit_History\" : Credit_History,\n",
    "            \"Property_Area\" : Property_Area\n",
    "            }\n",
    "    features = pd.DataFrame(data, index=[0])\n",
    "\n",
    "    return features"
   ]
  },
  {
   "cell_type": "code",
   "execution_count": 16,
   "metadata": {},
   "outputs": [],
   "source": [
    "pred_user = brukerverdier()\n",
    "st.write(\"\")\n",
    "st.write(\"\")\n",
    "st.write(\"\")\n",
    "st.write(\"\")\n",
    "st.write(\"\")\n",
    "st.write(\"\")\n",
    "#st.dataframe(data=pred_user, width=1200, height=768)\n",
    "#st.dataframe(pred_user)\n",
    "st.write(\"\"\" ## Se om du fortsatt vil få lån dersom du endrer noen parametere\"\"\")\n",
    "st.write(\"\"\" ### Dine nye parametere\"\"\")\n",
    "st.table(pred_user)\n",
    "#st.write(pred_user)\n",
    "\n",
    "pred_user[\"Gender\"].replace({\"Male\":1 , \"Female\":0 }, inplace = True)\n",
    "pred_user[\"Married\"].replace({\"Yes\":1 , \"No\": 0 }, inplace = True)\n",
    "pred_user[\"Education\"].replace({\"Graduate\":0 , \"Not Graduate\": 1 }, inplace = True)\n",
    "pred_user[\"Self_Employed\"].replace({\"Yes\": 1 , \"No\": 0}, inplace = True )\n",
    "pred_user[\"Property_Area\"].replace({\"Rural\":0 ,\"Semiurban\": 1 , \"Urban\":2 }, inplace = True )\n"
   ]
  },
  {
   "cell_type": "markdown",
   "metadata": {},
   "source": [
    "### Preprocessing"
   ]
  },
  {
   "cell_type": "code",
   "execution_count": 42,
   "metadata": {},
   "outputs": [],
   "source": [
    "X = raw_data.drop(['Loan_Status_Y'], axis=1)\n",
    "y = raw_data['Loan_Status_Y']"
   ]
  },
  {
   "cell_type": "code",
   "execution_count": 43,
   "metadata": {},
   "outputs": [
    {
     "name": "stdout",
     "output_type": "stream",
     "text": [
      "(429, 12) (185, 12) (429,) (185,)\n"
     ]
    }
   ],
   "source": [
    "X_train, X_test, y_train, y_test = train_test_split(\n",
    "    X, y, test_size=0.3, random_state=1)\n",
    "\n",
    "print(X_train.shape, X_test.shape, y_train.shape, y_test.shape)"
   ]
  },
  {
   "cell_type": "markdown",
   "metadata": {},
   "source": [
    "### Gradient Boosting Classifier"
   ]
  },
  {
   "cell_type": "code",
   "execution_count": 44,
   "metadata": {},
   "outputs": [
    {
     "data": {
      "text/plain": [
       "Pipeline(steps=[('standardscaler', StandardScaler()),\n",
       "                ('gradientboostingclassifier',\n",
       "                 GradientBoostingClassifier(learning_rate=0.01, max_depth=6,\n",
       "                                            max_features=0.3,\n",
       "                                            min_samples_leaf=3,\n",
       "                                            n_estimators=500,\n",
       "                                            random_state=21))])"
      ]
     },
     "execution_count": 44,
     "metadata": {},
     "output_type": "execute_result"
    }
   ],
   "source": [
    "gbc_pipe = make_pipeline(StandardScaler(), GradientBoostingClassifier( learning_rate= 0.01,\n",
    "                                                                        max_depth= 6, \n",
    "                                                                        max_features= 0.3,\n",
    "                                                                        min_samples_leaf= 3,\n",
    "                                                                        n_estimators= 500,\n",
    "                                                                      random_state=21))\n",
    "\n",
    "gbc_pipe.fit(X, y)"
   ]
  },
  {
   "cell_type": "code",
   "execution_count": 47,
   "metadata": {},
   "outputs": [
    {
     "name": "stdout",
     "output_type": "stream",
     "text": [
      "Gradient boosting regressor training data accuracy: 0.91\n",
      "Gradient boosting regressor test data accuracy: 0.91\n"
     ]
    },
    {
     "name": "stderr",
     "output_type": "stream",
     "text": [
      "C:\\Users\\Arterx\\Anaconda3\\envs\\dat200\\lib\\site-packages\\sklearn\\base.py:493: FutureWarning: The feature names should match those that were passed during fit. Starting version 1.2, an error will be raised.\n",
      "Feature names unseen at fit time:\n",
      "- Gender\n",
      "- Loan_Amount\n",
      "- Married\n",
      "- Self_Employed\n",
      "Feature names seen at fit time, yet now missing:\n",
      "- Gender_Male\n",
      "- LoanAmount\n",
      "- Married_Yes\n",
      "- Self_Employed_Yes\n",
      "\n",
      "  warnings.warn(message, FutureWarning)\n"
     ]
    }
   ],
   "source": [
    "y_pred = gbc_pipe.predict(test_data)\n",
    "pred_streamlit = gbc_pipe.predict(pred_user)\n",
    "\n",
    "print('Gradient boosting regressor training data accuracy: {0:.2f}'.format(gbc_pipe.score(X_train, y_train)))\n",
    "\n",
    "print('Gradient boosting regressor test data accuracy: {0:.2f}'.format(gbc_pipe.score(X_test, y_test)))"
   ]
  },
  {
   "cell_type": "code",
   "execution_count": 48,
   "metadata": {},
   "outputs": [],
   "source": [
    "if pred_streamlit == 0: \n",
    "    st.write(\"Basert på dette får du lån  \")\n",
    "elif pred_streamlit> 0:\n",
    "    st.write(\"Basert på dette får du ikke lån  \")"
   ]
  },
  {
   "cell_type": "code",
   "execution_count": null,
   "metadata": {},
   "outputs": [],
   "source": []
  }
 ],
 "metadata": {
  "kernelspec": {
   "display_name": "PyCharm (tin200)",
   "language": "python",
   "name": "pycharm-9b636fa4"
  },
  "language_info": {
   "codemirror_mode": {
    "name": "ipython",
    "version": 3
   },
   "file_extension": ".py",
   "mimetype": "text/x-python",
   "name": "python",
   "nbconvert_exporter": "python",
   "pygments_lexer": "ipython3",
   "version": "3.9.7"
  }
 },
 "nbformat": 4,
 "nbformat_minor": 4
}